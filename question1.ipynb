{
  "nbformat": 4,
  "nbformat_minor": 0,
  "metadata": {
    "colab": {
      "provenance": []
    },
    "kernelspec": {
      "name": "python3",
      "display_name": "Python 3"
    },
    "language_info": {
      "name": "python"
    }
  },
  "cells": [
    {
      "cell_type": "code",
      "execution_count": 3,
      "metadata": {
        "colab": {
          "base_uri": "https://localhost:8080/"
        },
        "id": "GFOB3Ls_4sNl",
        "outputId": "eaa9470e-bb4f-4240-9a43-86d461828c15"
      },
      "outputs": [
        {
          "output_type": "stream",
          "name": "stdout",
          "text": [
            "(569, 33)\n",
            "(569, 32)\n"
          ]
        }
      ],
      "source": [
        "# Importing libraries\n",
        "import pandas as pd\n",
        "import numpy as np\n",
        "import matplotlib.pyplot as plt\n",
        "import seaborn as sns\n",
        "\n",
        "# Importing data\n",
        "data = pd.read_csv('/content/sample_data/breastcancer.csv')\n",
        "del data['Unnamed: 32']\n"
      ]
    },
    {
      "cell_type": "code",
      "source": [
        "X = data.iloc[:, 2:].values\n",
        "y = data.iloc[:, 1].values\n",
        "\n",
        "# Encoding categorical data\n",
        "from sklearn.preprocessing import LabelEncoder\n",
        "labelencoder_X_1 = LabelEncoder()\n",
        "y = labelencoder_X_1.fit_transform(y)\n",
        "\n",
        "# Splitting the dataset into the Training set and Test set\n",
        "from sklearn.model_selection import train_test_split\n",
        "X_train, X_test, y_train, y_test = train_test_split(X, y, test_size = 0.1, random_state = 0)\n",
        "\n",
        "#Feature Scaling\n",
        "from sklearn.preprocessing import StandardScaler\n",
        "sc = StandardScaler()\n",
        "X_train = sc.fit_transform(X_train)\n",
        "X_test = sc.transform(X_test)"
      ],
      "metadata": {
        "id": "HdPkJxtm47XM"
      },
      "execution_count": 4,
      "outputs": []
    },
    {
      "cell_type": "code",
      "source": [
        "import keras\n",
        "from keras.models import Sequential\n",
        "from keras.layers import Dense, Dropout"
      ],
      "metadata": {
        "id": "zipfKzR65PXr"
      },
      "execution_count": 5,
      "outputs": []
    },
    {
      "cell_type": "code",
      "source": [
        "classifier = Sequential()\n",
        "classifier.add(Dense(20, input_shape=(X_train.shape[1],), activation='relu')) # hidden layer\n",
        "classifier.add(Dense(10, activation='relu')) # additional hidden layer\n",
        "classifier.add(Dense(5, activation='relu'))\n",
        "classifier.add(Dense(1, activation='sigmoid')) # output layer\n",
        "\n"
      ],
      "metadata": {
        "id": "hPVVnlOR5UM2"
      },
      "execution_count": 7,
      "outputs": []
    },
    {
      "cell_type": "code",
      "source": [
        "classifier.compile(optimizer='adam', loss='binary_crossentropy', metrics=['accuracy'])"
      ],
      "metadata": {
        "id": "ON0MP9NA5vUp"
      },
      "execution_count": 8,
      "outputs": []
    },
    {
      "cell_type": "code",
      "source": [
        "classifier.fit(X_train, y_train, batch_size=100, epochs=150)\n"
      ],
      "metadata": {
        "colab": {
          "base_uri": "https://localhost:8080/"
        },
        "id": "KLzkNahv50So",
        "outputId": "ce027a33-be02-40fc-de67-18f8bf56a5d1"
      },
      "execution_count": 9,
      "outputs": [
        {
          "output_type": "stream",
          "name": "stdout",
          "text": [
            "Epoch 1/150\n",
            "6/6 [==============================] - 2s 4ms/step - loss: 0.6869 - accuracy: 0.5215\n",
            "Epoch 2/150\n",
            "6/6 [==============================] - 0s 3ms/step - loss: 0.6055 - accuracy: 0.6445\n",
            "Epoch 3/150\n",
            "6/6 [==============================] - 0s 3ms/step - loss: 0.5308 - accuracy: 0.7910\n",
            "Epoch 4/150\n",
            "6/6 [==============================] - 0s 3ms/step - loss: 0.4686 - accuracy: 0.8750\n",
            "Epoch 5/150\n",
            "6/6 [==============================] - 0s 4ms/step - loss: 0.4167 - accuracy: 0.8984\n",
            "Epoch 6/150\n",
            "6/6 [==============================] - 0s 3ms/step - loss: 0.3689 - accuracy: 0.9160\n",
            "Epoch 7/150\n",
            "6/6 [==============================] - 0s 3ms/step - loss: 0.3262 - accuracy: 0.9238\n",
            "Epoch 8/150\n",
            "6/6 [==============================] - 0s 4ms/step - loss: 0.2880 - accuracy: 0.9277\n",
            "Epoch 9/150\n",
            "6/6 [==============================] - 0s 3ms/step - loss: 0.2566 - accuracy: 0.9336\n",
            "Epoch 10/150\n",
            "6/6 [==============================] - 0s 3ms/step - loss: 0.2293 - accuracy: 0.9355\n",
            "Epoch 11/150\n",
            "6/6 [==============================] - 0s 3ms/step - loss: 0.2076 - accuracy: 0.9336\n",
            "Epoch 12/150\n",
            "6/6 [==============================] - 0s 3ms/step - loss: 0.1885 - accuracy: 0.9375\n",
            "Epoch 13/150\n",
            "6/6 [==============================] - 0s 3ms/step - loss: 0.1730 - accuracy: 0.9395\n",
            "Epoch 14/150\n",
            "6/6 [==============================] - 0s 3ms/step - loss: 0.1598 - accuracy: 0.9434\n",
            "Epoch 15/150\n",
            "6/6 [==============================] - 0s 3ms/step - loss: 0.1488 - accuracy: 0.9473\n",
            "Epoch 16/150\n",
            "6/6 [==============================] - 0s 3ms/step - loss: 0.1384 - accuracy: 0.9473\n",
            "Epoch 17/150\n",
            "6/6 [==============================] - 0s 3ms/step - loss: 0.1300 - accuracy: 0.9531\n",
            "Epoch 18/150\n",
            "6/6 [==============================] - 0s 3ms/step - loss: 0.1224 - accuracy: 0.9531\n",
            "Epoch 19/150\n",
            "6/6 [==============================] - 0s 3ms/step - loss: 0.1160 - accuracy: 0.9570\n",
            "Epoch 20/150\n",
            "6/6 [==============================] - 0s 3ms/step - loss: 0.1103 - accuracy: 0.9590\n",
            "Epoch 21/150\n",
            "6/6 [==============================] - 0s 3ms/step - loss: 0.1056 - accuracy: 0.9609\n",
            "Epoch 22/150\n",
            "6/6 [==============================] - 0s 4ms/step - loss: 0.1011 - accuracy: 0.9629\n",
            "Epoch 23/150\n",
            "6/6 [==============================] - 0s 3ms/step - loss: 0.0973 - accuracy: 0.9648\n",
            "Epoch 24/150\n",
            "6/6 [==============================] - 0s 3ms/step - loss: 0.0938 - accuracy: 0.9648\n",
            "Epoch 25/150\n",
            "6/6 [==============================] - 0s 3ms/step - loss: 0.0904 - accuracy: 0.9648\n",
            "Epoch 26/150\n",
            "6/6 [==============================] - 0s 3ms/step - loss: 0.0874 - accuracy: 0.9688\n",
            "Epoch 27/150\n",
            "6/6 [==============================] - 0s 3ms/step - loss: 0.0850 - accuracy: 0.9688\n",
            "Epoch 28/150\n",
            "6/6 [==============================] - 0s 3ms/step - loss: 0.0824 - accuracy: 0.9707\n",
            "Epoch 29/150\n",
            "6/6 [==============================] - 0s 3ms/step - loss: 0.0799 - accuracy: 0.9746\n",
            "Epoch 30/150\n",
            "6/6 [==============================] - 0s 3ms/step - loss: 0.0773 - accuracy: 0.9746\n",
            "Epoch 31/150\n",
            "6/6 [==============================] - 0s 3ms/step - loss: 0.0753 - accuracy: 0.9785\n",
            "Epoch 32/150\n",
            "6/6 [==============================] - 0s 3ms/step - loss: 0.0732 - accuracy: 0.9805\n",
            "Epoch 33/150\n",
            "6/6 [==============================] - 0s 3ms/step - loss: 0.0712 - accuracy: 0.9805\n",
            "Epoch 34/150\n",
            "6/6 [==============================] - 0s 3ms/step - loss: 0.0695 - accuracy: 0.9805\n",
            "Epoch 35/150\n",
            "6/6 [==============================] - 0s 3ms/step - loss: 0.0678 - accuracy: 0.9805\n",
            "Epoch 36/150\n",
            "6/6 [==============================] - 0s 3ms/step - loss: 0.0660 - accuracy: 0.9805\n",
            "Epoch 37/150\n",
            "6/6 [==============================] - 0s 4ms/step - loss: 0.0648 - accuracy: 0.9805\n",
            "Epoch 38/150\n",
            "6/6 [==============================] - 0s 3ms/step - loss: 0.0638 - accuracy: 0.9844\n",
            "Epoch 39/150\n",
            "6/6 [==============================] - 0s 3ms/step - loss: 0.0628 - accuracy: 0.9863\n",
            "Epoch 40/150\n",
            "6/6 [==============================] - 0s 3ms/step - loss: 0.0615 - accuracy: 0.9863\n",
            "Epoch 41/150\n",
            "6/6 [==============================] - 0s 3ms/step - loss: 0.0599 - accuracy: 0.9863\n",
            "Epoch 42/150\n",
            "6/6 [==============================] - 0s 3ms/step - loss: 0.0586 - accuracy: 0.9883\n",
            "Epoch 43/150\n",
            "6/6 [==============================] - 0s 3ms/step - loss: 0.0573 - accuracy: 0.9844\n",
            "Epoch 44/150\n",
            "6/6 [==============================] - 0s 3ms/step - loss: 0.0560 - accuracy: 0.9824\n",
            "Epoch 45/150\n",
            "6/6 [==============================] - 0s 3ms/step - loss: 0.0550 - accuracy: 0.9824\n",
            "Epoch 46/150\n",
            "6/6 [==============================] - 0s 4ms/step - loss: 0.0541 - accuracy: 0.9844\n",
            "Epoch 47/150\n",
            "6/6 [==============================] - 0s 4ms/step - loss: 0.0531 - accuracy: 0.9863\n",
            "Epoch 48/150\n",
            "6/6 [==============================] - 0s 3ms/step - loss: 0.0520 - accuracy: 0.9902\n",
            "Epoch 49/150\n",
            "6/6 [==============================] - 0s 3ms/step - loss: 0.0516 - accuracy: 0.9883\n",
            "Epoch 50/150\n",
            "6/6 [==============================] - 0s 3ms/step - loss: 0.0509 - accuracy: 0.9883\n",
            "Epoch 51/150\n",
            "6/6 [==============================] - 0s 3ms/step - loss: 0.0503 - accuracy: 0.9883\n",
            "Epoch 52/150\n",
            "6/6 [==============================] - 0s 3ms/step - loss: 0.0495 - accuracy: 0.9883\n",
            "Epoch 53/150\n",
            "6/6 [==============================] - 0s 3ms/step - loss: 0.0485 - accuracy: 0.9883\n",
            "Epoch 54/150\n",
            "6/6 [==============================] - 0s 3ms/step - loss: 0.0476 - accuracy: 0.9902\n",
            "Epoch 55/150\n",
            "6/6 [==============================] - 0s 4ms/step - loss: 0.0465 - accuracy: 0.9902\n",
            "Epoch 56/150\n",
            "6/6 [==============================] - 0s 3ms/step - loss: 0.0457 - accuracy: 0.9902\n",
            "Epoch 57/150\n",
            "6/6 [==============================] - 0s 3ms/step - loss: 0.0452 - accuracy: 0.9902\n",
            "Epoch 58/150\n",
            "6/6 [==============================] - 0s 3ms/step - loss: 0.0447 - accuracy: 0.9902\n",
            "Epoch 59/150\n",
            "6/6 [==============================] - 0s 3ms/step - loss: 0.0442 - accuracy: 0.9902\n",
            "Epoch 60/150\n",
            "6/6 [==============================] - 0s 3ms/step - loss: 0.0436 - accuracy: 0.9902\n",
            "Epoch 61/150\n",
            "6/6 [==============================] - 0s 3ms/step - loss: 0.0428 - accuracy: 0.9902\n",
            "Epoch 62/150\n",
            "6/6 [==============================] - 0s 4ms/step - loss: 0.0422 - accuracy: 0.9902\n",
            "Epoch 63/150\n",
            "6/6 [==============================] - 0s 3ms/step - loss: 0.0415 - accuracy: 0.9902\n",
            "Epoch 64/150\n",
            "6/6 [==============================] - 0s 3ms/step - loss: 0.0411 - accuracy: 0.9902\n",
            "Epoch 65/150\n",
            "6/6 [==============================] - 0s 3ms/step - loss: 0.0404 - accuracy: 0.9902\n",
            "Epoch 66/150\n",
            "6/6 [==============================] - 0s 3ms/step - loss: 0.0399 - accuracy: 0.9902\n",
            "Epoch 67/150\n",
            "6/6 [==============================] - 0s 3ms/step - loss: 0.0392 - accuracy: 0.9902\n",
            "Epoch 68/150\n",
            "6/6 [==============================] - 0s 3ms/step - loss: 0.0387 - accuracy: 0.9902\n",
            "Epoch 69/150\n",
            "6/6 [==============================] - 0s 3ms/step - loss: 0.0382 - accuracy: 0.9902\n",
            "Epoch 70/150\n",
            "6/6 [==============================] - 0s 3ms/step - loss: 0.0378 - accuracy: 0.9902\n",
            "Epoch 71/150\n",
            "6/6 [==============================] - 0s 3ms/step - loss: 0.0373 - accuracy: 0.9902\n",
            "Epoch 72/150\n",
            "6/6 [==============================] - 0s 3ms/step - loss: 0.0366 - accuracy: 0.9902\n",
            "Epoch 73/150\n",
            "6/6 [==============================] - 0s 3ms/step - loss: 0.0362 - accuracy: 0.9902\n",
            "Epoch 74/150\n",
            "6/6 [==============================] - 0s 3ms/step - loss: 0.0355 - accuracy: 0.9902\n",
            "Epoch 75/150\n",
            "6/6 [==============================] - 0s 3ms/step - loss: 0.0352 - accuracy: 0.9902\n",
            "Epoch 76/150\n",
            "6/6 [==============================] - 0s 3ms/step - loss: 0.0349 - accuracy: 0.9902\n",
            "Epoch 77/150\n",
            "6/6 [==============================] - 0s 3ms/step - loss: 0.0345 - accuracy: 0.9902\n",
            "Epoch 78/150\n",
            "6/6 [==============================] - 0s 5ms/step - loss: 0.0337 - accuracy: 0.9902\n",
            "Epoch 79/150\n",
            "6/6 [==============================] - 0s 3ms/step - loss: 0.0331 - accuracy: 0.9902\n",
            "Epoch 80/150\n",
            "6/6 [==============================] - 0s 3ms/step - loss: 0.0325 - accuracy: 0.9902\n",
            "Epoch 81/150\n",
            "6/6 [==============================] - 0s 3ms/step - loss: 0.0319 - accuracy: 0.9902\n",
            "Epoch 82/150\n",
            "6/6 [==============================] - 0s 3ms/step - loss: 0.0314 - accuracy: 0.9902\n",
            "Epoch 83/150\n",
            "6/6 [==============================] - 0s 3ms/step - loss: 0.0307 - accuracy: 0.9902\n",
            "Epoch 84/150\n",
            "6/6 [==============================] - 0s 3ms/step - loss: 0.0303 - accuracy: 0.9902\n",
            "Epoch 85/150\n",
            "6/6 [==============================] - 0s 3ms/step - loss: 0.0300 - accuracy: 0.9902\n",
            "Epoch 86/150\n",
            "6/6 [==============================] - 0s 3ms/step - loss: 0.0291 - accuracy: 0.9922\n",
            "Epoch 87/150\n",
            "6/6 [==============================] - 0s 4ms/step - loss: 0.0286 - accuracy: 0.9922\n",
            "Epoch 88/150\n",
            "6/6 [==============================] - 0s 4ms/step - loss: 0.0280 - accuracy: 0.9902\n",
            "Epoch 89/150\n",
            "6/6 [==============================] - 0s 3ms/step - loss: 0.0276 - accuracy: 0.9902\n",
            "Epoch 90/150\n",
            "6/6 [==============================] - 0s 3ms/step - loss: 0.0272 - accuracy: 0.9922\n",
            "Epoch 91/150\n",
            "6/6 [==============================] - 0s 3ms/step - loss: 0.0269 - accuracy: 0.9941\n",
            "Epoch 92/150\n",
            "6/6 [==============================] - 0s 4ms/step - loss: 0.0264 - accuracy: 0.9941\n",
            "Epoch 93/150\n",
            "6/6 [==============================] - 0s 3ms/step - loss: 0.0261 - accuracy: 0.9941\n",
            "Epoch 94/150\n",
            "6/6 [==============================] - 0s 3ms/step - loss: 0.0257 - accuracy: 0.9941\n",
            "Epoch 95/150\n",
            "6/6 [==============================] - 0s 4ms/step - loss: 0.0252 - accuracy: 0.9941\n",
            "Epoch 96/150\n",
            "6/6 [==============================] - 0s 3ms/step - loss: 0.0248 - accuracy: 0.9941\n",
            "Epoch 97/150\n",
            "6/6 [==============================] - 0s 4ms/step - loss: 0.0243 - accuracy: 0.9941\n",
            "Epoch 98/150\n",
            "6/6 [==============================] - 0s 3ms/step - loss: 0.0241 - accuracy: 0.9941\n",
            "Epoch 99/150\n",
            "6/6 [==============================] - 0s 3ms/step - loss: 0.0236 - accuracy: 0.9941\n",
            "Epoch 100/150\n",
            "6/6 [==============================] - 0s 3ms/step - loss: 0.0231 - accuracy: 0.9941\n",
            "Epoch 101/150\n",
            "6/6 [==============================] - 0s 3ms/step - loss: 0.0228 - accuracy: 0.9941\n",
            "Epoch 102/150\n",
            "6/6 [==============================] - 0s 3ms/step - loss: 0.0225 - accuracy: 0.9941\n",
            "Epoch 103/150\n",
            "6/6 [==============================] - 0s 3ms/step - loss: 0.0222 - accuracy: 0.9941\n",
            "Epoch 104/150\n",
            "6/6 [==============================] - 0s 3ms/step - loss: 0.0216 - accuracy: 0.9941\n",
            "Epoch 105/150\n",
            "6/6 [==============================] - 0s 3ms/step - loss: 0.0212 - accuracy: 0.9941\n",
            "Epoch 106/150\n",
            "6/6 [==============================] - 0s 3ms/step - loss: 0.0207 - accuracy: 0.9941\n",
            "Epoch 107/150\n",
            "6/6 [==============================] - 0s 3ms/step - loss: 0.0204 - accuracy: 0.9941\n",
            "Epoch 108/150\n",
            "6/6 [==============================] - 0s 3ms/step - loss: 0.0199 - accuracy: 0.9941\n",
            "Epoch 109/150\n",
            "6/6 [==============================] - 0s 4ms/step - loss: 0.0196 - accuracy: 0.9941\n",
            "Epoch 110/150\n",
            "6/6 [==============================] - 0s 3ms/step - loss: 0.0193 - accuracy: 0.9941\n",
            "Epoch 111/150\n",
            "6/6 [==============================] - 0s 3ms/step - loss: 0.0191 - accuracy: 0.9941\n",
            "Epoch 112/150\n",
            "6/6 [==============================] - 0s 3ms/step - loss: 0.0189 - accuracy: 0.9941\n",
            "Epoch 113/150\n",
            "6/6 [==============================] - 0s 3ms/step - loss: 0.0185 - accuracy: 0.9941\n",
            "Epoch 114/150\n",
            "6/6 [==============================] - 0s 3ms/step - loss: 0.0181 - accuracy: 0.9941\n",
            "Epoch 115/150\n",
            "6/6 [==============================] - 0s 3ms/step - loss: 0.0178 - accuracy: 0.9941\n",
            "Epoch 116/150\n",
            "6/6 [==============================] - 0s 3ms/step - loss: 0.0175 - accuracy: 0.9941\n",
            "Epoch 117/150\n",
            "6/6 [==============================] - 0s 4ms/step - loss: 0.0173 - accuracy: 0.9941\n",
            "Epoch 118/150\n",
            "6/6 [==============================] - 0s 3ms/step - loss: 0.0169 - accuracy: 0.9941\n",
            "Epoch 119/150\n",
            "6/6 [==============================] - 0s 3ms/step - loss: 0.0166 - accuracy: 0.9941\n",
            "Epoch 120/150\n",
            "6/6 [==============================] - 0s 3ms/step - loss: 0.0163 - accuracy: 0.9961\n",
            "Epoch 121/150\n",
            "6/6 [==============================] - 0s 3ms/step - loss: 0.0160 - accuracy: 0.9961\n",
            "Epoch 122/150\n",
            "6/6 [==============================] - 0s 3ms/step - loss: 0.0158 - accuracy: 0.9941\n",
            "Epoch 123/150\n",
            "6/6 [==============================] - 0s 3ms/step - loss: 0.0156 - accuracy: 0.9961\n",
            "Epoch 124/150\n",
            "6/6 [==============================] - 0s 4ms/step - loss: 0.0153 - accuracy: 0.9961\n",
            "Epoch 125/150\n",
            "6/6 [==============================] - 0s 3ms/step - loss: 0.0151 - accuracy: 0.9961\n",
            "Epoch 126/150\n",
            "6/6 [==============================] - 0s 3ms/step - loss: 0.0148 - accuracy: 0.9961\n",
            "Epoch 127/150\n",
            "6/6 [==============================] - 0s 3ms/step - loss: 0.0145 - accuracy: 0.9961\n",
            "Epoch 128/150\n",
            "6/6 [==============================] - 0s 5ms/step - loss: 0.0142 - accuracy: 0.9961\n",
            "Epoch 129/150\n",
            "6/6 [==============================] - 0s 4ms/step - loss: 0.0140 - accuracy: 0.9961\n",
            "Epoch 130/150\n",
            "6/6 [==============================] - 0s 5ms/step - loss: 0.0137 - accuracy: 0.9961\n",
            "Epoch 131/150\n",
            "6/6 [==============================] - 0s 3ms/step - loss: 0.0136 - accuracy: 0.9961\n",
            "Epoch 132/150\n",
            "6/6 [==============================] - 0s 4ms/step - loss: 0.0134 - accuracy: 0.9961\n",
            "Epoch 133/150\n",
            "6/6 [==============================] - 0s 3ms/step - loss: 0.0132 - accuracy: 0.9961\n",
            "Epoch 134/150\n",
            "6/6 [==============================] - 0s 3ms/step - loss: 0.0130 - accuracy: 0.9961\n",
            "Epoch 135/150\n",
            "6/6 [==============================] - 0s 3ms/step - loss: 0.0128 - accuracy: 0.9961\n",
            "Epoch 136/150\n",
            "6/6 [==============================] - 0s 3ms/step - loss: 0.0126 - accuracy: 0.9961\n",
            "Epoch 137/150\n",
            "6/6 [==============================] - 0s 4ms/step - loss: 0.0124 - accuracy: 0.9961\n",
            "Epoch 138/150\n",
            "6/6 [==============================] - 0s 3ms/step - loss: 0.0122 - accuracy: 0.9961\n",
            "Epoch 139/150\n",
            "6/6 [==============================] - 0s 4ms/step - loss: 0.0120 - accuracy: 0.9961\n",
            "Epoch 140/150\n",
            "6/6 [==============================] - 0s 3ms/step - loss: 0.0118 - accuracy: 0.9961\n",
            "Epoch 141/150\n",
            "6/6 [==============================] - 0s 3ms/step - loss: 0.0116 - accuracy: 0.9961\n",
            "Epoch 142/150\n",
            "6/6 [==============================] - 0s 3ms/step - loss: 0.0114 - accuracy: 0.9961\n",
            "Epoch 143/150\n",
            "6/6 [==============================] - 0s 4ms/step - loss: 0.0111 - accuracy: 0.9980\n",
            "Epoch 144/150\n",
            "6/6 [==============================] - 0s 3ms/step - loss: 0.0109 - accuracy: 0.9980\n",
            "Epoch 145/150\n",
            "6/6 [==============================] - 0s 3ms/step - loss: 0.0106 - accuracy: 0.9980\n",
            "Epoch 146/150\n",
            "6/6 [==============================] - 0s 3ms/step - loss: 0.0103 - accuracy: 0.9980\n",
            "Epoch 147/150\n",
            "6/6 [==============================] - 0s 3ms/step - loss: 0.0104 - accuracy: 0.9980\n",
            "Epoch 148/150\n",
            "6/6 [==============================] - 0s 3ms/step - loss: 0.0107 - accuracy: 0.9980\n",
            "Epoch 149/150\n",
            "6/6 [==============================] - 0s 3ms/step - loss: 0.0104 - accuracy: 0.9980\n",
            "Epoch 150/150\n",
            "6/6 [==============================] - 0s 3ms/step - loss: 0.0097 - accuracy: 0.9980\n"
          ]
        },
        {
          "output_type": "execute_result",
          "data": {
            "text/plain": [
              "<keras.src.callbacks.History at 0x7afc61545990>"
            ]
          },
          "metadata": {},
          "execution_count": 9
        }
      ]
    },
    {
      "metadata": {
        "_uuid": "2a668b12248656821e4797a95ed0a878a63d8ee1",
        "collapsed": true,
        "_cell_guid": "cc405d00-4e8c-4882-8251-d83d4b269895",
        "trusted": true,
        "id": "zIybzZMY1tC5",
        "outputId": "26c48e5a-28b2-43d4-dbf5-912d5a41c796",
        "colab": {
          "base_uri": "https://localhost:8080/"
        }
      },
      "cell_type": "code",
      "source": [
        "# Predicting the Test set results\n",
        "y_pred = classifier.predict(X_test)\n",
        "y_pred = (y_pred > 0.5)"
      ],
      "execution_count": 10,
      "outputs": [
        {
          "output_type": "stream",
          "name": "stdout",
          "text": [
            "2/2 [==============================] - 0s 9ms/step\n"
          ]
        }
      ]
    },
    {
      "cell_type": "code",
      "source": [
        "# Making the Confusion Matrix\n",
        "from sklearn.metrics import confusion_matrix\n",
        "cm = confusion_matrix(y_test, y_pred)"
      ],
      "metadata": {
        "id": "aR5pZDx86A2U"
      },
      "execution_count": 11,
      "outputs": []
    },
    {
      "cell_type": "code",
      "source": [
        "print(\"Our accuracy is {}%\".format(((cm[0][0] + cm[1][1])/57)*100))"
      ],
      "metadata": {
        "colab": {
          "base_uri": "https://localhost:8080/"
        },
        "id": "YuvmJet_6E8M",
        "outputId": "b85f9e1f-2cff-48e5-be9c-7e568ff3ac8d"
      },
      "execution_count": 12,
      "outputs": [
        {
          "output_type": "stream",
          "name": "stdout",
          "text": [
            "Our accuracy is 96.49122807017544%\n"
          ]
        }
      ]
    },
    {
      "cell_type": "code",
      "source": [
        "sns.heatmap(cm,annot=True)\n"
      ],
      "metadata": {
        "colab": {
          "base_uri": "https://localhost:8080/",
          "height": 447
        },
        "id": "SHkNVprw6JeD",
        "outputId": "0512f0b5-9a83-45ea-8f66-0dae3e354696"
      },
      "execution_count": 13,
      "outputs": [
        {
          "output_type": "execute_result",
          "data": {
            "text/plain": [
              "<Axes: >"
            ]
          },
          "metadata": {},
          "execution_count": 13
        },
        {
          "output_type": "display_data",
          "data": {
            "text/plain": [
              "<Figure size 640x480 with 2 Axes>"
            ],
            "image/png": "[encoded data removed]"
          },
          "metadata": {}
        }
      ]
    }
  ]
}